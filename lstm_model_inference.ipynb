{
 "cells": [
  {
   "cell_type": "code",
   "execution_count": 1,
   "id": "efdfa82a-53c5-43e4-a489-34f00d588093",
   "metadata": {},
   "outputs": [
    {
     "name": "stderr",
     "output_type": "stream",
     "text": [
      "2023-11-05 22:28:47.643813: I tensorflow/core/platform/cpu_feature_guard.cc:182] This TensorFlow binary is optimized to use available CPU instructions in performance-critical operations.\n",
      "To enable the following instructions: AVX2 FMA, in other operations, rebuild TensorFlow with the appropriate compiler flags.\n"
     ]
    }
   ],
   "source": [
    "import os, sys\n",
    "import tensorflow as tf\n",
    "import pandas as pd\n",
    "import numpy as np\n",
    "import dataclasses"
   ]
  },
  {
   "cell_type": "code",
   "execution_count": 2,
   "id": "6f9a8774-9cf0-463a-aaeb-dbe34948bb17",
   "metadata": {},
   "outputs": [
    {
     "data": {
      "text/plain": [
       "'2.12.0'"
      ]
     },
     "execution_count": 2,
     "metadata": {},
     "output_type": "execute_result"
    }
   ],
   "source": [
    "tf.__version__"
   ]
  },
  {
   "cell_type": "code",
   "execution_count": 3,
   "id": "3c4af59d-c981-4fc9-b8fd-78a320d6653e",
   "metadata": {},
   "outputs": [],
   "source": [
    "@dataclasses.dataclass\n",
    "class params:\n",
    "    model_pb_dir: str = \"./lstm_model_2023-11-05-2/\"\n",
    "\n",
    "    def __init__(self, model_pb_dir: str):\n",
    "        self.model_pb_dir = model_pb_dir\n",
    "        self.model = tf.saved_model.load(model_pb_dir)"
   ]
  },
  {
   "cell_type": "code",
   "execution_count": 4,
   "id": "6430324e-17fe-4a78-8077-39e8c97d016a",
   "metadata": {
    "scrolled": true
   },
   "outputs": [
    {
     "name": "stderr",
     "output_type": "stream",
     "text": [
      "2023-11-05 22:28:55.759466: I tensorflow/core/common_runtime/executor.cc:1197] [/device:CPU:0] (DEBUG INFO) Executor start aborting (this does not indicate an error and you can ignore this message): INVALID_ARGUMENT: You must feed a value for placeholder tensor 'gradients_split_2_grad_concat_split_2_split_dim' with dtype int32\n",
      "\t [[{{node gradients_split_2_grad_concat_split_2_split_dim}}]]\n",
      "2023-11-05 22:28:55.759597: I tensorflow/core/common_runtime/executor.cc:1197] [/device:CPU:0] (DEBUG INFO) Executor start aborting (this does not indicate an error and you can ignore this message): INVALID_ARGUMENT: You must feed a value for placeholder tensor 'gradients_split_grad_concat_split_split_dim' with dtype int32\n",
      "\t [[{{node gradients_split_grad_concat_split_split_dim}}]]\n",
      "2023-11-05 22:28:55.759680: I tensorflow/core/common_runtime/executor.cc:1197] [/device:CPU:0] (DEBUG INFO) Executor start aborting (this does not indicate an error and you can ignore this message): INVALID_ARGUMENT: You must feed a value for placeholder tensor 'gradients_split_1_grad_concat_split_1_split_dim' with dtype int32\n",
      "\t [[{{node gradients_split_1_grad_concat_split_1_split_dim}}]]\n",
      "2023-11-05 22:28:55.790203: I tensorflow/core/common_runtime/executor.cc:1197] [/device:CPU:0] (DEBUG INFO) Executor start aborting (this does not indicate an error and you can ignore this message): INVALID_ARGUMENT: You must feed a value for placeholder tensor 'gradients_split_2_grad_concat_split_2_split_dim' with dtype int32\n",
      "\t [[{{node gradients_split_2_grad_concat_split_2_split_dim}}]]\n",
      "2023-11-05 22:28:55.790288: I tensorflow/core/common_runtime/executor.cc:1197] [/device:CPU:0] (DEBUG INFO) Executor start aborting (this does not indicate an error and you can ignore this message): INVALID_ARGUMENT: You must feed a value for placeholder tensor 'gradients_split_grad_concat_split_split_dim' with dtype int32\n",
      "\t [[{{node gradients_split_grad_concat_split_split_dim}}]]\n",
      "2023-11-05 22:28:55.790361: I tensorflow/core/common_runtime/executor.cc:1197] [/device:CPU:0] (DEBUG INFO) Executor start aborting (this does not indicate an error and you can ignore this message): INVALID_ARGUMENT: You must feed a value for placeholder tensor 'gradients_split_1_grad_concat_split_1_split_dim' with dtype int32\n",
      "\t [[{{node gradients_split_1_grad_concat_split_1_split_dim}}]]\n",
      "2023-11-05 22:28:55.858923: I tensorflow/core/common_runtime/executor.cc:1197] [/device:CPU:0] (DEBUG INFO) Executor start aborting (this does not indicate an error and you can ignore this message): INVALID_ARGUMENT: You must feed a value for placeholder tensor 'gradients_split_2_grad_concat_split_2_split_dim' with dtype int32\n",
      "\t [[{{node gradients_split_2_grad_concat_split_2_split_dim}}]]\n",
      "2023-11-05 22:28:55.859010: I tensorflow/core/common_runtime/executor.cc:1197] [/device:CPU:0] (DEBUG INFO) Executor start aborting (this does not indicate an error and you can ignore this message): INVALID_ARGUMENT: You must feed a value for placeholder tensor 'gradients_split_grad_concat_split_split_dim' with dtype int32\n",
      "\t [[{{node gradients_split_grad_concat_split_split_dim}}]]\n",
      "2023-11-05 22:28:55.859082: I tensorflow/core/common_runtime/executor.cc:1197] [/device:CPU:0] (DEBUG INFO) Executor start aborting (this does not indicate an error and you can ignore this message): INVALID_ARGUMENT: You must feed a value for placeholder tensor 'gradients_split_1_grad_concat_split_1_split_dim' with dtype int32\n",
      "\t [[{{node gradients_split_1_grad_concat_split_1_split_dim}}]]\n",
      "2023-11-05 22:28:55.922366: I tensorflow/core/common_runtime/executor.cc:1197] [/device:CPU:0] (DEBUG INFO) Executor start aborting (this does not indicate an error and you can ignore this message): INVALID_ARGUMENT: You must feed a value for placeholder tensor 'gradients_split_2_grad_concat_split_2_split_dim' with dtype int32\n",
      "\t [[{{node gradients_split_2_grad_concat_split_2_split_dim}}]]\n",
      "2023-11-05 22:28:55.922529: I tensorflow/core/common_runtime/executor.cc:1197] [/device:CPU:0] (DEBUG INFO) Executor start aborting (this does not indicate an error and you can ignore this message): INVALID_ARGUMENT: You must feed a value for placeholder tensor 'gradients_split_grad_concat_split_split_dim' with dtype int32\n",
      "\t [[{{node gradients_split_grad_concat_split_split_dim}}]]\n",
      "2023-11-05 22:28:55.922606: I tensorflow/core/common_runtime/executor.cc:1197] [/device:CPU:0] (DEBUG INFO) Executor start aborting (this does not indicate an error and you can ignore this message): INVALID_ARGUMENT: You must feed a value for placeholder tensor 'gradients_split_1_grad_concat_split_1_split_dim' with dtype int32\n",
      "\t [[{{node gradients_split_1_grad_concat_split_1_split_dim}}]]\n",
      "2023-11-05 22:28:55.945882: I tensorflow/core/common_runtime/executor.cc:1197] [/device:CPU:0] (DEBUG INFO) Executor start aborting (this does not indicate an error and you can ignore this message): INVALID_ARGUMENT: You must feed a value for placeholder tensor 'gradients_split_2_grad_concat_split_2_split_dim' with dtype int32\n",
      "\t [[{{node gradients_split_2_grad_concat_split_2_split_dim}}]]\n",
      "2023-11-05 22:28:55.945968: I tensorflow/core/common_runtime/executor.cc:1197] [/device:CPU:0] (DEBUG INFO) Executor start aborting (this does not indicate an error and you can ignore this message): INVALID_ARGUMENT: You must feed a value for placeholder tensor 'gradients_split_grad_concat_split_split_dim' with dtype int32\n",
      "\t [[{{node gradients_split_grad_concat_split_split_dim}}]]\n",
      "2023-11-05 22:28:55.946039: I tensorflow/core/common_runtime/executor.cc:1197] [/device:CPU:0] (DEBUG INFO) Executor start aborting (this does not indicate an error and you can ignore this message): INVALID_ARGUMENT: You must feed a value for placeholder tensor 'gradients_split_1_grad_concat_split_1_split_dim' with dtype int32\n",
      "\t [[{{node gradients_split_1_grad_concat_split_1_split_dim}}]]\n",
      "2023-11-05 22:28:56.179039: I tensorflow/core/common_runtime/executor.cc:1197] [/device:CPU:0] (DEBUG INFO) Executor start aborting (this does not indicate an error and you can ignore this message): INVALID_ARGUMENT: You must feed a value for placeholder tensor 'gradients_split_2_grad_concat_split_2_split_dim' with dtype int32\n",
      "\t [[{{node gradients_split_2_grad_concat_split_2_split_dim}}]]\n",
      "2023-11-05 22:28:56.179135: I tensorflow/core/common_runtime/executor.cc:1197] [/device:CPU:0] (DEBUG INFO) Executor start aborting (this does not indicate an error and you can ignore this message): INVALID_ARGUMENT: You must feed a value for placeholder tensor 'gradients_split_grad_concat_split_split_dim' with dtype int32\n",
      "\t [[{{node gradients_split_grad_concat_split_split_dim}}]]\n",
      "2023-11-05 22:28:56.179204: I tensorflow/core/common_runtime/executor.cc:1197] [/device:CPU:0] (DEBUG INFO) Executor start aborting (this does not indicate an error and you can ignore this message): INVALID_ARGUMENT: You must feed a value for placeholder tensor 'gradients_split_1_grad_concat_split_1_split_dim' with dtype int32\n",
      "\t [[{{node gradients_split_1_grad_concat_split_1_split_dim}}]]\n",
      "2023-11-05 22:28:56.225291: I tensorflow/core/common_runtime/executor.cc:1197] [/device:CPU:0] (DEBUG INFO) Executor start aborting (this does not indicate an error and you can ignore this message): INVALID_ARGUMENT: You must feed a value for placeholder tensor 'gradients_split_2_grad_concat_split_2_split_dim' with dtype int32\n",
      "\t [[{{node gradients_split_2_grad_concat_split_2_split_dim}}]]\n",
      "2023-11-05 22:28:56.225378: I tensorflow/core/common_runtime/executor.cc:1197] [/device:CPU:0] (DEBUG INFO) Executor start aborting (this does not indicate an error and you can ignore this message): INVALID_ARGUMENT: You must feed a value for placeholder tensor 'gradients_split_grad_concat_split_split_dim' with dtype int32\n",
      "\t [[{{node gradients_split_grad_concat_split_split_dim}}]]\n",
      "2023-11-05 22:28:56.225445: I tensorflow/core/common_runtime/executor.cc:1197] [/device:CPU:0] (DEBUG INFO) Executor start aborting (this does not indicate an error and you can ignore this message): INVALID_ARGUMENT: You must feed a value for placeholder tensor 'gradients_split_1_grad_concat_split_1_split_dim' with dtype int32\n",
      "\t [[{{node gradients_split_1_grad_concat_split_1_split_dim}}]]\n",
      "2023-11-05 22:28:56.320439: I tensorflow/core/common_runtime/executor.cc:1197] [/device:CPU:0] (DEBUG INFO) Executor start aborting (this does not indicate an error and you can ignore this message): INVALID_ARGUMENT: You must feed a value for placeholder tensor 'gradients_split_2_grad_concat_split_2_split_dim' with dtype int32\n",
      "\t [[{{node gradients_split_2_grad_concat_split_2_split_dim}}]]\n",
      "2023-11-05 22:28:56.320526: I tensorflow/core/common_runtime/executor.cc:1197] [/device:CPU:0] (DEBUG INFO) Executor start aborting (this does not indicate an error and you can ignore this message): INVALID_ARGUMENT: You must feed a value for placeholder tensor 'gradients_split_grad_concat_split_split_dim' with dtype int32\n",
      "\t [[{{node gradients_split_grad_concat_split_split_dim}}]]\n",
      "2023-11-05 22:28:56.320593: I tensorflow/core/common_runtime/executor.cc:1197] [/device:CPU:0] (DEBUG INFO) Executor start aborting (this does not indicate an error and you can ignore this message): INVALID_ARGUMENT: You must feed a value for placeholder tensor 'gradients_split_1_grad_concat_split_1_split_dim' with dtype int32\n",
      "\t [[{{node gradients_split_1_grad_concat_split_1_split_dim}}]]\n",
      "2023-11-05 22:28:56.363614: I tensorflow/core/common_runtime/executor.cc:1197] [/device:CPU:0] (DEBUG INFO) Executor start aborting (this does not indicate an error and you can ignore this message): INVALID_ARGUMENT: You must feed a value for placeholder tensor 'gradients_split_2_grad_concat_split_2_split_dim' with dtype int32\n",
      "\t [[{{node gradients_split_2_grad_concat_split_2_split_dim}}]]\n",
      "2023-11-05 22:28:56.363704: I tensorflow/core/common_runtime/executor.cc:1197] [/device:CPU:0] (DEBUG INFO) Executor start aborting (this does not indicate an error and you can ignore this message): INVALID_ARGUMENT: You must feed a value for placeholder tensor 'gradients_split_grad_concat_split_split_dim' with dtype int32\n",
      "\t [[{{node gradients_split_grad_concat_split_split_dim}}]]\n",
      "2023-11-05 22:28:56.363773: I tensorflow/core/common_runtime/executor.cc:1197] [/device:CPU:0] (DEBUG INFO) Executor start aborting (this does not indicate an error and you can ignore this message): INVALID_ARGUMENT: You must feed a value for placeholder tensor 'gradients_split_1_grad_concat_split_1_split_dim' with dtype int32\n",
      "\t [[{{node gradients_split_1_grad_concat_split_1_split_dim}}]]\n",
      "2023-11-05 22:28:56.447166: I tensorflow/core/common_runtime/executor.cc:1197] [/device:CPU:0] (DEBUG INFO) Executor start aborting (this does not indicate an error and you can ignore this message): INVALID_ARGUMENT: You must feed a value for placeholder tensor 'gradients_split_2_grad_concat_split_2_split_dim' with dtype int32\n",
      "\t [[{{node gradients_split_2_grad_concat_split_2_split_dim}}]]\n",
      "2023-11-05 22:28:56.447250: I tensorflow/core/common_runtime/executor.cc:1197] [/device:CPU:0] (DEBUG INFO) Executor start aborting (this does not indicate an error and you can ignore this message): INVALID_ARGUMENT: You must feed a value for placeholder tensor 'gradients_split_grad_concat_split_split_dim' with dtype int32\n",
      "\t [[{{node gradients_split_grad_concat_split_split_dim}}]]\n",
      "2023-11-05 22:28:56.447323: I tensorflow/core/common_runtime/executor.cc:1197] [/device:CPU:0] (DEBUG INFO) Executor start aborting (this does not indicate an error and you can ignore this message): INVALID_ARGUMENT: You must feed a value for placeholder tensor 'gradients_split_1_grad_concat_split_1_split_dim' with dtype int32\n",
      "\t [[{{node gradients_split_1_grad_concat_split_1_split_dim}}]]\n",
      "2023-11-05 22:28:56.493779: I tensorflow/core/common_runtime/executor.cc:1197] [/device:CPU:0] (DEBUG INFO) Executor start aborting (this does not indicate an error and you can ignore this message): INVALID_ARGUMENT: You must feed a value for placeholder tensor 'gradients_split_2_grad_concat_split_2_split_dim' with dtype int32\n",
      "\t [[{{node gradients_split_2_grad_concat_split_2_split_dim}}]]\n",
      "2023-11-05 22:28:56.493865: I tensorflow/core/common_runtime/executor.cc:1197] [/device:CPU:0] (DEBUG INFO) Executor start aborting (this does not indicate an error and you can ignore this message): INVALID_ARGUMENT: You must feed a value for placeholder tensor 'gradients_split_grad_concat_split_split_dim' with dtype int32\n",
      "\t [[{{node gradients_split_grad_concat_split_split_dim}}]]\n",
      "2023-11-05 22:28:56.493933: I tensorflow/core/common_runtime/executor.cc:1197] [/device:CPU:0] (DEBUG INFO) Executor start aborting (this does not indicate an error and you can ignore this message): INVALID_ARGUMENT: You must feed a value for placeholder tensor 'gradients_split_1_grad_concat_split_1_split_dim' with dtype int32\n",
      "\t [[{{node gradients_split_1_grad_concat_split_1_split_dim}}]]\n"
     ]
    }
   ],
   "source": [
    "g_params = params( \"./lstm_model_2023-11-05-2/\" )"
   ]
  },
  {
   "cell_type": "code",
   "execution_count": 5,
   "id": "97be8ac8-1cce-447b-a98f-cbb41903e0d4",
   "metadata": {
    "scrolled": true
   },
   "outputs": [
    {
     "data": {
      "text/plain": [
       "['__call__',\n",
       " '__class__',\n",
       " '__delattr__',\n",
       " '__dict__',\n",
       " '__dir__',\n",
       " '__doc__',\n",
       " '__eq__',\n",
       " '__format__',\n",
       " '__ge__',\n",
       " '__getattribute__',\n",
       " '__getstate__',\n",
       " '__gt__',\n",
       " '__hash__',\n",
       " '__init__',\n",
       " '__init_subclass__',\n",
       " '__le__',\n",
       " '__lt__',\n",
       " '__module__',\n",
       " '__ne__',\n",
       " '__new__',\n",
       " '__reduce__',\n",
       " '__reduce_ex__',\n",
       " '__repr__',\n",
       " '__setattr__',\n",
       " '__sizeof__',\n",
       " '__str__',\n",
       " '__subclasshook__',\n",
       " '__weakref__',\n",
       " '_add_trackable_child',\n",
       " '_add_variable_with_custom_getter',\n",
       " '_checkpoint_dependencies',\n",
       " '_default_save_signature',\n",
       " '_deferred_dependencies',\n",
       " '_delete_tracking',\n",
       " '_deserialization_dependencies',\n",
       " '_deserialize_from_proto',\n",
       " '_export_to_saved_model_graph',\n",
       " '_gather_saveables_for_checkpoint',\n",
       " '_handle_deferred_dependencies',\n",
       " '_lookup_dependency',\n",
       " '_maybe_initialize_trackable',\n",
       " '_name_based_attribute_restore',\n",
       " '_name_based_restores',\n",
       " '_no_dependency',\n",
       " '_object_identifier',\n",
       " '_preload_simple_restoration',\n",
       " '_restore_from_tensors',\n",
       " '_self_name_based_restores',\n",
       " '_self_saveable_object_factories',\n",
       " '_self_setattr_tracking',\n",
       " '_self_unconditional_checkpoint_dependencies',\n",
       " '_self_unconditional_deferred_dependencies',\n",
       " '_self_unconditional_dependency_names',\n",
       " '_self_update_uid',\n",
       " '_serialize_to_proto',\n",
       " '_serialize_to_tensors',\n",
       " '_setattr_tracking',\n",
       " '_tf_api_names',\n",
       " '_tf_api_names_v1',\n",
       " '_track_trackable',\n",
       " '_trackable_children',\n",
       " '_unconditional_checkpoint_dependencies',\n",
       " '_unconditional_dependency_names',\n",
       " '_update_uid',\n",
       " 'call_and_return_all_conditional_losses',\n",
       " 'graph_debug_info',\n",
       " 'keras_api',\n",
       " 'layer-0',\n",
       " 'layer-1',\n",
       " 'layer-2',\n",
       " 'layer_with_weights-0',\n",
       " 'layer_with_weights-1',\n",
       " 'optimizer',\n",
       " 'regularization_losses',\n",
       " 'signatures',\n",
       " 'tensorflow_git_version',\n",
       " 'tensorflow_version',\n",
       " 'trainable_variables',\n",
       " 'variables']"
      ]
     },
     "execution_count": 5,
     "metadata": {},
     "output_type": "execute_result"
    }
   ],
   "source": [
    "dir( g_params.model )"
   ]
  },
  {
   "cell_type": "code",
   "execution_count": 6,
   "id": "aced6e4a-4966-4a9c-a551-d49c1bb4a7ec",
   "metadata": {},
   "outputs": [],
   "source": [
    "tf.config.run_functions_eagerly(True)\n",
    "from tensorflow.python.ops.numpy_ops import np_config\n",
    "np_config.enable_numpy_behavior()"
   ]
  },
  {
   "cell_type": "code",
   "execution_count": 7,
   "id": "bfb5263b-3214-45b7-99cd-7a10641443c1",
   "metadata": {},
   "outputs": [],
   "source": [
    "inference_func = g_params.model.signatures[\"serving_default\"]"
   ]
  },
  {
   "cell_type": "code",
   "execution_count": 8,
   "id": "3e385567-f25d-48ca-8be5-59ea69177a32",
   "metadata": {},
   "outputs": [],
   "source": [
    "model_output = inference_func(tf.convert_to_tensor(np.ones((1,1,10), dtype = np.float32)))"
   ]
  },
  {
   "cell_type": "code",
   "execution_count": 9,
   "id": "181128df-a585-4ed7-bcb2-65108e8e592c",
   "metadata": {},
   "outputs": [
    {
     "data": {
      "text/plain": [
       "{'dense': <tf.Tensor: shape=(1, 1, 1), dtype=float32, numpy=array([[[0.00891958]]], dtype=float32)>}"
      ]
     },
     "execution_count": 9,
     "metadata": {},
     "output_type": "execute_result"
    }
   ],
   "source": [
    "model_output"
   ]
  },
  {
   "cell_type": "code",
   "execution_count": 10,
   "id": "12b37950-aa03-4e7d-96f9-b0d70bcf10b8",
   "metadata": {
    "scrolled": true
   },
   "outputs": [
    {
     "data": {
      "text/plain": [
       "(TensorShape([10, 256]),\n",
       " TensorShape([64, 256]),\n",
       " TensorShape([256]),\n",
       " TensorShape([64, 1]),\n",
       " TensorShape([1]))"
      ]
     },
     "execution_count": 10,
     "metadata": {},
     "output_type": "execute_result"
    }
   ],
   "source": [
    "g_params.model.variables[0].shape, g_params.model.variables[1].shape, g_params.model.variables[2].shape, g_params.model.variables[3].shape, g_params.model.variables[4].shape, "
   ]
  },
  {
   "cell_type": "code",
   "execution_count": 11,
   "id": "8dac20f3-2eb0-4e66-9dfe-7f0f941a6f40",
   "metadata": {},
   "outputs": [
    {
     "data": {
      "text/plain": [
       "array([[ 0.00406891,  0.02942161, -0.07692266, ...,  0.0350378 ,\n",
       "         0.14710282, -0.04384851],\n",
       "       [-0.05274755,  0.14557846, -0.01052976, ...,  0.09109949,\n",
       "         0.04527088, -0.01447561],\n",
       "       [-0.07837641, -0.02560529,  0.07452903, ..., -0.04418456,\n",
       "        -0.03712278,  0.07655569],\n",
       "       ...,\n",
       "       [ 0.12180015, -0.07375343, -0.10644257, ...,  0.09775096,\n",
       "        -0.04994417,  0.00661113],\n",
       "       [-0.04794744,  0.10409902, -0.02695975, ..., -0.12072746,\n",
       "         0.09919485, -0.12267644],\n",
       "       [ 0.16002688,  0.14137049,  0.11540732, ..., -0.08713548,\n",
       "        -0.07780564, -0.06745956]], dtype=float32)"
      ]
     },
     "execution_count": 11,
     "metadata": {},
     "output_type": "execute_result"
    }
   ],
   "source": [
    "np.array(g_params.model.variables[0])"
   ]
  },
  {
   "cell_type": "code",
   "execution_count": 12,
   "id": "a8b887df-26f1-4a40-8603-e941ba0e8e61",
   "metadata": {},
   "outputs": [
    {
     "data": {
      "text/plain": [
       "<tensorflow.python.saved_model.load.Loader._recreate_base_user_object.<locals>._UserObject at 0x161f13450>"
      ]
     },
     "execution_count": 12,
     "metadata": {},
     "output_type": "execute_result"
    }
   ],
   "source": [
    "g_params.model._deserialize_from_proto()"
   ]
  },
  {
   "cell_type": "code",
   "execution_count": 13,
   "id": "1957a3b3-1b55-4f0a-8532-630e21330d1e",
   "metadata": {},
   "outputs": [],
   "source": [
    "class MLHelper:\n",
    "    @classmethod\n",
    "    def sigmoid(cls, arr):\n",
    "        res = 1 / (1 + np.exp(-arr))\n",
    "        return res\n",
    "\n",
    "    @classmethod\n",
    "    def tanh(cls, arr):\n",
    "        return np.tanh(arr)\n",
    "\n",
    "    @classmethod\n",
    "    def relu( cls, arr):\n",
    "        return np.maximum(0, x)"
   ]
  },
  {
   "cell_type": "code",
   "execution_count": 14,
   "id": "8bedd6a8-a7af-4f8d-b6c2-329f12ad7b53",
   "metadata": {},
   "outputs": [],
   "source": [
    "class LSTM:\n",
    "    def __init__( self, X_Mat, H_Mat, B_Vec, init_hidden_state=None, init_cell_state=None ):\n",
    "        self.X_Mat = X_Mat\n",
    "        self.H_Mat = H_Mat\n",
    "        self.B_Vec = B_Vec\n",
    "\n",
    "        self.input_len = X_Mat.shape[0]\n",
    "        self.unit = X_Mat.shape[1] // 4\n",
    "        self.input_shape = (X_Mat.shape[0], 1)\n",
    "        self.hidden_state_shape = (H_Mat.shape[0] , 1)\n",
    "        self.cell_state_shape = self.hidden_state_shape\n",
    "        self.timestep = 0\n",
    "\n",
    "        if init_hidden_state is None:\n",
    "            self.hidden_state = np.zeros(self.hidden_state_shape)\n",
    "        if init_cell_state is None:\n",
    "            self.cell_state = np.zeros(self.cell_state_shape)\n",
    "        \n",
    "\n",
    "        if X_Mat.shape[1] != H_Mat.shape[1]:\n",
    "            raise ValueError(f\"LSTM Input H_Mat Column Count ({H_Mat.shape[1]}) \"\\\n",
    "                             f\"Should Be The Same As X_Mat Column Count ({X_Mat.shape[1]})!\")\n",
    "\n",
    "        self.W_i, self.W_f, self.W_c, self.W_o = \\\n",
    "            X_Mat[:, :self.unit].T, X_Mat[:, self.unit: 2 * self.unit].T, X_Mat[:, 2 * self.unit: 3 * self.unit].T, X_Mat[:, 3 * self.unit:].T\n",
    "\n",
    "        self.U_i, self.U_f, self.U_c, self.U_o = \\\n",
    "            H_Mat[:, :self.unit].T, H_Mat[:, self.unit: 2 * self.unit].T, H_Mat[:, 2 * self.unit: 3 * self.unit].T, H_Mat[:, 3 * self.unit:].T\n",
    "\n",
    "        self.b_i, self.b_f, self.b_c, self.b_o = \\\n",
    "            B_Vec[:self.unit].reshape(self.hidden_state_shape),\\\n",
    "            B_Vec[self.unit: 2 * self.unit].reshape(self.hidden_state_shape),\\\n",
    "            B_Vec[2 * self.unit: 3 * self.unit].reshape(self.hidden_state_shape),\\\n",
    "            B_Vec[3 * self.unit:].reshape(self.hidden_state_shape)\n",
    "\n",
    "    def infer_X( self, X_input ):\n",
    "        a = np.matmul(self.W_o, X_input) + np.matmul(self.U_o, self.hidden_state) + self.b_o\n",
    "\n",
    "        o_t = MLHelper.sigmoid(a)\n",
    "        f_t = MLHelper.sigmoid(np.matmul(self.W_f, X_input) + np.matmul(self.U_f, self.hidden_state) + self.b_f)\n",
    "        i_t = MLHelper.sigmoid(np.matmul(self.W_i, X_input) + np.matmul(self.U_i, self.hidden_state) + self.b_i)\n",
    "\n",
    "        cell_state_ = MLHelper.tanh(np.matmul(self.W_c, X_input) + np.matmul(self.U_c, self.hidden_state) + self.b_c)\n",
    "\n",
    "        self.cell_state = f_t * self.cell_state + i_t * cell_state_\n",
    "        self.hidden_state = o_t * MLHelper.tanh(self.cell_state)\n",
    "        self.timestep += 1\n",
    "        return self"
   ]
  },
  {
   "cell_type": "code",
   "execution_count": 15,
   "id": "0cfdb096-1283-4e35-8c4b-caa350ea8bdf",
   "metadata": {},
   "outputs": [],
   "source": [
    "class Dense:\n",
    "    def __init__(self, D_Mat, B_Vec):\n",
    "        self.D_Mat = D_Mat\n",
    "        self.B_Vec = B_Vec\n",
    "\n",
    "        if self.D_Mat.shape[0] != self.B_Vec.shape[0]:\n",
    "            raise ValueError(f\"Dense Input D_Mat Column Count ({D_Mat.shape[1]}) \"\\\n",
    "                             f\"Should Be The Same As B_Vec Row Count ({B_Vec.shape[0]})!\")\n",
    "\n",
    "    def infer_X( self, X_input):\n",
    "        self.out = np.matmul( self.D_Mat, X_input ) + self.B_Vec\n",
    "        return self"
   ]
  },
  {
   "cell_type": "code",
   "execution_count": 16,
   "id": "211818c9-66c5-47c5-8a9c-88fe177a0280",
   "metadata": {},
   "outputs": [],
   "source": [
    "trial_LSTM = LSTM( g_params.model.variables[0], g_params.model.variables[1], g_params.model.variables[2] )"
   ]
  },
  {
   "cell_type": "code",
   "execution_count": 17,
   "id": "2c6e4b4c-cb6e-4a90-aeaf-27d074c5e9c0",
   "metadata": {},
   "outputs": [],
   "source": [
    "input_X = np.ones((10, 1))"
   ]
  },
  {
   "cell_type": "code",
   "execution_count": 18,
   "id": "4f20d5f5-b46e-41ad-a746-e92344dad5cc",
   "metadata": {},
   "outputs": [
    {
     "data": {
      "text/plain": [
       "<__main__.LSTM at 0x161f62e90>"
      ]
     },
     "execution_count": 18,
     "metadata": {},
     "output_type": "execute_result"
    }
   ],
   "source": [
    "trial_LSTM.infer_X( input_X )"
   ]
  },
  {
   "cell_type": "code",
   "execution_count": 19,
   "id": "dfd2f330-1678-4f17-99e7-3c22a7d5290f",
   "metadata": {},
   "outputs": [
    {
     "data": {
      "text/plain": [
       "(64, 1)"
      ]
     },
     "execution_count": 19,
     "metadata": {},
     "output_type": "execute_result"
    }
   ],
   "source": [
    "trial_LSTM.hidden_state.shape"
   ]
  },
  {
   "cell_type": "code",
   "execution_count": 20,
   "id": "63b2beeb-12c6-467d-963a-b49482aaedbe",
   "metadata": {},
   "outputs": [],
   "source": [
    "trial_Dense = Dense(np.array(g_params.model.variables[3]).T, np.array(g_params.model.variables[4]).reshape((1,1)))"
   ]
  },
  {
   "cell_type": "code",
   "execution_count": 21,
   "id": "74b65373-bd97-46e1-b183-972127bc23cb",
   "metadata": {},
   "outputs": [
    {
     "data": {
      "text/plain": [
       "<__main__.Dense at 0x161f2fb90>"
      ]
     },
     "execution_count": 21,
     "metadata": {},
     "output_type": "execute_result"
    }
   ],
   "source": [
    "trial_Dense.infer_X(trial_LSTM.hidden_state)"
   ]
  },
  {
   "cell_type": "code",
   "execution_count": 22,
   "id": "4978a328-af07-42db-a06f-cc26d3589057",
   "metadata": {},
   "outputs": [
    {
     "data": {
      "text/plain": [
       "array([[0.00891958]])"
      ]
     },
     "execution_count": 22,
     "metadata": {},
     "output_type": "execute_result"
    }
   ],
   "source": [
    "trial_Dense.out"
   ]
  }
 ],
 "metadata": {
  "kernelspec": {
   "display_name": "Python 3 (ipykernel)",
   "language": "python",
   "name": "python3"
  },
  "language_info": {
   "codemirror_mode": {
    "name": "ipython",
    "version": 3
   },
   "file_extension": ".py",
   "mimetype": "text/x-python",
   "name": "python",
   "nbconvert_exporter": "python",
   "pygments_lexer": "ipython3",
   "version": "3.11.5"
  }
 },
 "nbformat": 4,
 "nbformat_minor": 5
}
